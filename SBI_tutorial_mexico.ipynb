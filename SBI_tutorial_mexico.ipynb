{
  "nbformat": 4,
  "nbformat_minor": 0,
  "metadata": {
    "colab": {
      "provenance": [],
      "toc_visible": true,
      "authorship_tag": "ABX9TyOFz1kSIOD/XOc8O+RB8Nsf",
      "include_colab_link": true
    },
    "kernelspec": {
      "name": "python3",
      "display_name": "Python 3"
    },
    "language_info": {
      "name": "python"
    },
    "widgets": {
      "application/vnd.jupyter.widget-state+json": {
        "0d3d871205644e4ba3b916e3cc55890c": {
          "model_module": "@jupyter-widgets/controls",
          "model_name": "HBoxModel",
          "model_module_version": "1.5.0",
          "state": {
            "_dom_classes": [],
            "_model_module": "@jupyter-widgets/controls",
            "_model_module_version": "1.5.0",
            "_model_name": "HBoxModel",
            "_view_count": null,
            "_view_module": "@jupyter-widgets/controls",
            "_view_module_version": "1.5.0",
            "_view_name": "HBoxView",
            "box_style": "",
            "children": [
              "IPY_MODEL_1029eadb0e6f46469cd7784b2a6d2715",
              "IPY_MODEL_90ade41299c6409c9b84f84af2c2b883",
              "IPY_MODEL_9d13eb5db3794cf6a9a57351c2143ef1"
            ],
            "layout": "IPY_MODEL_618a674580fd48a48fef668206717096"
          }
        },
        "1029eadb0e6f46469cd7784b2a6d2715": {
          "model_module": "@jupyter-widgets/controls",
          "model_name": "HTMLModel",
          "model_module_version": "1.5.0",
          "state": {
            "_dom_classes": [],
            "_model_module": "@jupyter-widgets/controls",
            "_model_module_version": "1.5.0",
            "_model_name": "HTMLModel",
            "_view_count": null,
            "_view_module": "@jupyter-widgets/controls",
            "_view_module_version": "1.5.0",
            "_view_name": "HTMLView",
            "description": "",
            "description_tooltip": null,
            "layout": "IPY_MODEL_90cf063bcf364de5ad1b9def2e3d43c5",
            "placeholder": "​",
            "style": "IPY_MODEL_070538e31cf946a0ba43be909d4b5e95",
            "value": "Drawing 1000 posterior samples: 100%"
          }
        },
        "90ade41299c6409c9b84f84af2c2b883": {
          "model_module": "@jupyter-widgets/controls",
          "model_name": "FloatProgressModel",
          "model_module_version": "1.5.0",
          "state": {
            "_dom_classes": [],
            "_model_module": "@jupyter-widgets/controls",
            "_model_module_version": "1.5.0",
            "_model_name": "FloatProgressModel",
            "_view_count": null,
            "_view_module": "@jupyter-widgets/controls",
            "_view_module_version": "1.5.0",
            "_view_name": "ProgressView",
            "bar_style": "success",
            "description": "",
            "description_tooltip": null,
            "layout": "IPY_MODEL_32efb0d3ea4f4be09d49f4e31df2e849",
            "max": 1000,
            "min": 0,
            "orientation": "horizontal",
            "style": "IPY_MODEL_d5cc90c0db7e4361bc2c8d3e894b68e4",
            "value": 1000
          }
        },
        "9d13eb5db3794cf6a9a57351c2143ef1": {
          "model_module": "@jupyter-widgets/controls",
          "model_name": "HTMLModel",
          "model_module_version": "1.5.0",
          "state": {
            "_dom_classes": [],
            "_model_module": "@jupyter-widgets/controls",
            "_model_module_version": "1.5.0",
            "_model_name": "HTMLModel",
            "_view_count": null,
            "_view_module": "@jupyter-widgets/controls",
            "_view_module_version": "1.5.0",
            "_view_name": "HTMLView",
            "description": "",
            "description_tooltip": null,
            "layout": "IPY_MODEL_7b38541b63c4481793a55989049db26b",
            "placeholder": "​",
            "style": "IPY_MODEL_3e3c4c32b2ad47cf9173f81286b59762",
            "value": " 1000/1000 [00:00&lt;00:00, 26595.38it/s]"
          }
        },
        "618a674580fd48a48fef668206717096": {
          "model_module": "@jupyter-widgets/base",
          "model_name": "LayoutModel",
          "model_module_version": "1.2.0",
          "state": {
            "_model_module": "@jupyter-widgets/base",
            "_model_module_version": "1.2.0",
            "_model_name": "LayoutModel",
            "_view_count": null,
            "_view_module": "@jupyter-widgets/base",
            "_view_module_version": "1.2.0",
            "_view_name": "LayoutView",
            "align_content": null,
            "align_items": null,
            "align_self": null,
            "border": null,
            "bottom": null,
            "display": null,
            "flex": null,
            "flex_flow": null,
            "grid_area": null,
            "grid_auto_columns": null,
            "grid_auto_flow": null,
            "grid_auto_rows": null,
            "grid_column": null,
            "grid_gap": null,
            "grid_row": null,
            "grid_template_areas": null,
            "grid_template_columns": null,
            "grid_template_rows": null,
            "height": null,
            "justify_content": null,
            "justify_items": null,
            "left": null,
            "margin": null,
            "max_height": null,
            "max_width": null,
            "min_height": null,
            "min_width": null,
            "object_fit": null,
            "object_position": null,
            "order": null,
            "overflow": null,
            "overflow_x": null,
            "overflow_y": null,
            "padding": null,
            "right": null,
            "top": null,
            "visibility": null,
            "width": null
          }
        },
        "90cf063bcf364de5ad1b9def2e3d43c5": {
          "model_module": "@jupyter-widgets/base",
          "model_name": "LayoutModel",
          "model_module_version": "1.2.0",
          "state": {
            "_model_module": "@jupyter-widgets/base",
            "_model_module_version": "1.2.0",
            "_model_name": "LayoutModel",
            "_view_count": null,
            "_view_module": "@jupyter-widgets/base",
            "_view_module_version": "1.2.0",
            "_view_name": "LayoutView",
            "align_content": null,
            "align_items": null,
            "align_self": null,
            "border": null,
            "bottom": null,
            "display": null,
            "flex": null,
            "flex_flow": null,
            "grid_area": null,
            "grid_auto_columns": null,
            "grid_auto_flow": null,
            "grid_auto_rows": null,
            "grid_column": null,
            "grid_gap": null,
            "grid_row": null,
            "grid_template_areas": null,
            "grid_template_columns": null,
            "grid_template_rows": null,
            "height": null,
            "justify_content": null,
            "justify_items": null,
            "left": null,
            "margin": null,
            "max_height": null,
            "max_width": null,
            "min_height": null,
            "min_width": null,
            "object_fit": null,
            "object_position": null,
            "order": null,
            "overflow": null,
            "overflow_x": null,
            "overflow_y": null,
            "padding": null,
            "right": null,
            "top": null,
            "visibility": null,
            "width": null
          }
        },
        "070538e31cf946a0ba43be909d4b5e95": {
          "model_module": "@jupyter-widgets/controls",
          "model_name": "DescriptionStyleModel",
          "model_module_version": "1.5.0",
          "state": {
            "_model_module": "@jupyter-widgets/controls",
            "_model_module_version": "1.5.0",
            "_model_name": "DescriptionStyleModel",
            "_view_count": null,
            "_view_module": "@jupyter-widgets/base",
            "_view_module_version": "1.2.0",
            "_view_name": "StyleView",
            "description_width": ""
          }
        },
        "32efb0d3ea4f4be09d49f4e31df2e849": {
          "model_module": "@jupyter-widgets/base",
          "model_name": "LayoutModel",
          "model_module_version": "1.2.0",
          "state": {
            "_model_module": "@jupyter-widgets/base",
            "_model_module_version": "1.2.0",
            "_model_name": "LayoutModel",
            "_view_count": null,
            "_view_module": "@jupyter-widgets/base",
            "_view_module_version": "1.2.0",
            "_view_name": "LayoutView",
            "align_content": null,
            "align_items": null,
            "align_self": null,
            "border": null,
            "bottom": null,
            "display": null,
            "flex": null,
            "flex_flow": null,
            "grid_area": null,
            "grid_auto_columns": null,
            "grid_auto_flow": null,
            "grid_auto_rows": null,
            "grid_column": null,
            "grid_gap": null,
            "grid_row": null,
            "grid_template_areas": null,
            "grid_template_columns": null,
            "grid_template_rows": null,
            "height": null,
            "justify_content": null,
            "justify_items": null,
            "left": null,
            "margin": null,
            "max_height": null,
            "max_width": null,
            "min_height": null,
            "min_width": null,
            "object_fit": null,
            "object_position": null,
            "order": null,
            "overflow": null,
            "overflow_x": null,
            "overflow_y": null,
            "padding": null,
            "right": null,
            "top": null,
            "visibility": null,
            "width": null
          }
        },
        "d5cc90c0db7e4361bc2c8d3e894b68e4": {
          "model_module": "@jupyter-widgets/controls",
          "model_name": "ProgressStyleModel",
          "model_module_version": "1.5.0",
          "state": {
            "_model_module": "@jupyter-widgets/controls",
            "_model_module_version": "1.5.0",
            "_model_name": "ProgressStyleModel",
            "_view_count": null,
            "_view_module": "@jupyter-widgets/base",
            "_view_module_version": "1.2.0",
            "_view_name": "StyleView",
            "bar_color": null,
            "description_width": ""
          }
        },
        "7b38541b63c4481793a55989049db26b": {
          "model_module": "@jupyter-widgets/base",
          "model_name": "LayoutModel",
          "model_module_version": "1.2.0",
          "state": {
            "_model_module": "@jupyter-widgets/base",
            "_model_module_version": "1.2.0",
            "_model_name": "LayoutModel",
            "_view_count": null,
            "_view_module": "@jupyter-widgets/base",
            "_view_module_version": "1.2.0",
            "_view_name": "LayoutView",
            "align_content": null,
            "align_items": null,
            "align_self": null,
            "border": null,
            "bottom": null,
            "display": null,
            "flex": null,
            "flex_flow": null,
            "grid_area": null,
            "grid_auto_columns": null,
            "grid_auto_flow": null,
            "grid_auto_rows": null,
            "grid_column": null,
            "grid_gap": null,
            "grid_row": null,
            "grid_template_areas": null,
            "grid_template_columns": null,
            "grid_template_rows": null,
            "height": null,
            "justify_content": null,
            "justify_items": null,
            "left": null,
            "margin": null,
            "max_height": null,
            "max_width": null,
            "min_height": null,
            "min_width": null,
            "object_fit": null,
            "object_position": null,
            "order": null,
            "overflow": null,
            "overflow_x": null,
            "overflow_y": null,
            "padding": null,
            "right": null,
            "top": null,
            "visibility": null,
            "width": null
          }
        },
        "3e3c4c32b2ad47cf9173f81286b59762": {
          "model_module": "@jupyter-widgets/controls",
          "model_name": "DescriptionStyleModel",
          "model_module_version": "1.5.0",
          "state": {
            "_model_module": "@jupyter-widgets/controls",
            "_model_module_version": "1.5.0",
            "_model_name": "DescriptionStyleModel",
            "_view_count": null,
            "_view_module": "@jupyter-widgets/base",
            "_view_module_version": "1.2.0",
            "_view_name": "StyleView",
            "description_width": ""
          }
        }
      }
    }
  },
  "cells": [
    {
      "cell_type": "markdown",
      "metadata": {
        "id": "view-in-github",
        "colab_type": "text"
      },
      "source": [
        "<a href=\"https://colab.research.google.com/github/modichirag/sbi_tutorial/blob/main/SBI_tutorial_mexico.ipynb\" target=\"_parent\"><img src=\"https://colab.research.google.com/assets/colab-badge.svg\" alt=\"Open In Colab\"/></a>"
      ]
    },
    {
      "cell_type": "code",
      "source": [
        "import numpy as np\n",
        "import matplotlib.pyplot as plt\n",
        "import torch\n"
      ],
      "metadata": {
        "id": "W3lxDX8iFujR"
      },
      "execution_count": 3,
      "outputs": []
    },
    {
      "cell_type": "code",
      "execution_count": 4,
      "metadata": {
        "id": "yw_FUAHICitq",
        "colab": {
          "base_uri": "https://localhost:8080/"
        },
        "outputId": "de5597df-90da-4c98-fe69-368fdcecba48"
      },
      "outputs": [
        {
          "output_type": "stream",
          "name": "stdout",
          "text": [
            "\u001b[?25l     \u001b[90m━━━━━━━━━━━━━━━━━━━━━━━━━━━━━━━━━━━━━━━━\u001b[0m \u001b[32m0.0/46.2 kB\u001b[0m \u001b[31m?\u001b[0m eta \u001b[36m-:--:--\u001b[0m\r\u001b[2K     \u001b[91m━━━━━━━━━━━━━━━━━━━━━━━━━━\u001b[0m\u001b[91m╸\u001b[0m\u001b[90m━━━━━━━━━━━━━\u001b[0m \u001b[32m30.7/46.2 kB\u001b[0m \u001b[31m676.3 kB/s\u001b[0m eta \u001b[36m0:00:01\u001b[0m\r\u001b[2K     \u001b[90m━━━━━━━━━━━━━━━━━━━━━━━━━━━━━━━━━━━━━━━━\u001b[0m \u001b[32m46.2/46.2 kB\u001b[0m \u001b[31m657.2 kB/s\u001b[0m eta \u001b[36m0:00:00\u001b[0m\n",
            "\u001b[?25h"
          ]
        }
      ],
      "source": [
        "!pip install --quiet emcee\n"
      ]
    },
    {
      "cell_type": "code",
      "source": [
        "!pip install  --quiet  sbi\n"
      ],
      "metadata": {
        "id": "bTZYdilkCmej",
        "colab": {
          "base_uri": "https://localhost:8080/"
        },
        "outputId": "07f542cd-c306-4767-ee88-acb93ea11efd"
      },
      "execution_count": 5,
      "outputs": [
        {
          "output_type": "stream",
          "name": "stdout",
          "text": [
            "\u001b[2K     \u001b[90m━━━━━━━━━━━━━━━━━━━━━━━━━━━━━━━━━━━━━━━━\u001b[0m \u001b[32m272.3/272.3 kB\u001b[0m \u001b[31m2.1 MB/s\u001b[0m eta \u001b[36m0:00:00\u001b[0m\n",
            "\u001b[2K     \u001b[90m━━━━━━━━━━━━━━━━━━━━━━━━━━━━━━━━━━━━━━━━\u001b[0m \u001b[32m732.8/732.8 kB\u001b[0m \u001b[31m12.6 MB/s\u001b[0m eta \u001b[36m0:00:00\u001b[0m\n",
            "\u001b[2K     \u001b[90m━━━━━━━━━━━━━━━━━━━━━━━━━━━━━━━━━━━━━━━━\u001b[0m \u001b[32m45.8/45.8 kB\u001b[0m \u001b[31m4.9 MB/s\u001b[0m eta \u001b[36m0:00:00\u001b[0m\n",
            "\u001b[?25h  Preparing metadata (setup.py) ... \u001b[?25l\u001b[?25hdone\n",
            "  Building wheel for nflows (setup.py) ... \u001b[?25l\u001b[?25hdone\n"
          ]
        }
      ]
    },
    {
      "cell_type": "markdown",
      "source": [
        "# 1-D Toy problem\n",
        "\n",
        "Let's set up a simple 1-dimensional toy problem to get started with SBI.  \n",
        "\n",
        "Say we are interested in the estimating the age of a person ($\\theta: age$) given their height $(x: height)$.\n",
        "\n",
        "To keep things simple, we will assume that the height of the person is distributed as a Gaussian distribution where the mean and the variance of the distribution depend on the age of the person depend as follows:\n",
        "\n",
        "$height \\sim \\mathcal{N}(\\mu, \\sigma^2)$ \\\\\n",
        "where \\\\\n",
        "$\\mu = - 0.04 *(age - 60)^2 + 170$ \\\\\n",
        "$\\sigma^2 = - 0.04 *(age - 60)^2 + 170$ \\\\\n",
        "\n",
        "Though not relevant for the turorial, this ad-hoc relation captures some of the intuition we might have about height-age relationship, for e.g., \\\\\n",
        "- it gets the average height of a baby and a 60 year old reasonably correct\n",
        "- the height of the person increases faster when young and asymptotes as they mature followed by a slight decrease as they stoop in the old age (say after age 60)\n",
        "- the variance in the height is larger when the mean height is larger  "
      ],
      "metadata": {
        "id": "3-mb-3k3FtaR"
      }
    },
    {
      "cell_type": "code",
      "source": [
        "def mean_height(age):\n",
        "    h = -0.04*(age - 60)**2 + 170\n",
        "    return h\n",
        "\n",
        "def var_height(age):\n",
        "    h = -0.04*(age - 60)**2 + 170\n",
        "    return h\n",
        "\n",
        "#Let us visualize what this distribution looks like\n",
        "ages = np.linspace(0, 60)\n",
        "h_mean = mean_height(ages)\n",
        "h_var = var_height(ages)\n",
        "plt.errorbar(ages, h_mean, h_var**0.5)\n",
        "plt.xlabel('Age')\n",
        "plt.ylabel('Height')\n",
        "plt.grid()"
      ],
      "metadata": {
        "colab": {
          "base_uri": "https://localhost:8080/",
          "height": 449
        },
        "id": "AfJSn123FsJz",
        "outputId": "9055618c-c3ca-4330-87c6-feccf71d9858"
      },
      "execution_count": 6,
      "outputs": [
        {
          "output_type": "display_data",
          "data": {
            "text/plain": [
              "<Figure size 640x480 with 1 Axes>"
            ],
            "image/png": "[encoded data removed]"
          },
          "metadata": {}
        }
      ]
    },
    {
      "cell_type": "markdown",
      "source": [
        "This defines a data-generating process, or a simulator which takes in the age and outputs a height of the person."
      ],
      "metadata": {
        "id": "nYKyLMNlys0x"
      }
    },
    {
      "cell_type": "code",
      "source": [
        "def simulator(age):\n",
        "    # Generate samples from N(mu, sigma) where mu and sigma depend on age\n",
        "\n",
        "    mu = mean_height(age)\n",
        "    var = var_height(age)\n",
        "\n",
        "    # Just some book-keeping to handle both scalar and vector inputs.\n",
        "    if type(age) == float:\n",
        "        h = mu + var**0.5 * np.random.normal()\n",
        "    elif type(age) == np.ndarray :\n",
        "        h = mu + var**0.5 * np.random.normal(size=mu.shape[0])\n",
        "    return h\n",
        "\n"
      ],
      "metadata": {
        "id": "jNLG5EXlynA4"
      },
      "execution_count": 65,
      "outputs": []
    },
    {
      "cell_type": "markdown",
      "source": [
        "## Explicit inference with MCMC\n",
        "\n",
        "Given an observation of height (data), we wish to infer the age of the person i.e. we are interested in estimating the posterior distribution $p(\\theta | x)$\n",
        "\n",
        "According to Baye's theorem:\n",
        "$p(\\theta | x) \\propto p(x | \\theta) \\times p(\\theta) $\n",
        "\n",
        "The likelihood distribution of the observed data (height) is described above:  p(x | \\theta). \\\\\n",
        "We also need a prior distribution on $\\theta$, the parameters of interest i.e. age.\n",
        "Let us assume this to be a uniform distribution\n",
        "$\\theta \\sim \\mathcal{U}(0, 65)$"
      ],
      "metadata": {
        "id": "NT5JIxQ2useu"
      }
    },
    {
      "cell_type": "code",
      "source": [
        "def log_likelihood(theta, x):\n",
        "    mu = mean_height(theta)\n",
        "    var = var_height(theta)\n",
        "    lk =   -0.5* ((mu-x)**2)/var\n",
        "    return lk\n",
        "\n",
        "def log_prior(theta):\n",
        "    lp = 0\n",
        "    if (theta < 0) or (theta > 65): lp = -np.inf\n",
        "    else: lp = 0.\n",
        "    return lp\n",
        "\n",
        "def log_prob(theta, x):\n",
        "    lk = log_likelihood(theta, x)\n",
        "    lp = log_prior(theta)\n",
        "    log_prob = lk + lp\n",
        "    return log_prob\n"
      ],
      "metadata": {
        "id": "QoDgV5AMxOcG"
      },
      "execution_count": 8,
      "outputs": []
    },
    {
      "cell_type": "markdown",
      "source": [
        "Let us construct a mock data for say a person of age 20."
      ],
      "metadata": {
        "id": "cZqLgy0cyIj8"
      }
    },
    {
      "cell_type": "code",
      "source": [
        "np.random.seed(10)\n",
        "#np.random.seed(2)\n",
        "age = 20.\n",
        "height = simulator(age)\n",
        "\n",
        "# Visualize the data\n",
        "plt.errorbar(ages, h_mean, h_var**0.5)\n",
        "plt.plot(age, height, 'x', color='red')"
      ],
      "metadata": {
        "colab": {
          "base_uri": "https://localhost:8080/",
          "height": 448
        },
        "id": "UKI3tD9lyB6T",
        "outputId": "ba7e7c3e-9960-4339-bdb9-6eb6c4c58539"
      },
      "execution_count": 66,
      "outputs": [
        {
          "output_type": "execute_result",
          "data": {
            "text/plain": [
              "[<matplotlib.lines.Line2D at 0x7f73d655e560>]"
            ]
          },
          "metadata": {},
          "execution_count": 66
        },
        {
          "output_type": "display_data",
          "data": {
            "text/plain": [
              "<Figure size 640x480 with 1 Axes>"
            ],
            "image/png": "[encoded data removed]"
          },
          "metadata": {}
        }
      ]
    },
    {
      "cell_type": "markdown",
      "source": [
        "### Sampling\n",
        "\n",
        "Now that we have defined the posterior distribution and generated a mock data sample, we can use MCMC to generate samples from the posterior i.e. the possible ages consistent with the observed height.\n",
        "\n",
        "We will use emcee package for this which is a great package of small (< 10) dimensional problems.\n",
        "\n",
        "https://emcee.readthedocs.io/en/stable/"
      ],
      "metadata": {
        "id": "U26gYb_o0l2K"
      }
    },
    {
      "cell_type": "code",
      "source": [
        "import emcee"
      ],
      "metadata": {
        "id": "DVRb2-oZLnLU"
      },
      "execution_count": 67,
      "outputs": []
    },
    {
      "cell_type": "code",
      "source": [
        "# the dimensionality of the problem, and the number of walkers we want to use\n",
        "ndim, nwalkers = 1, 10\n",
        "\n",
        "# Initialize the emcee sampler for our problem\n",
        "sampler = emcee.EnsembleSampler(nwalkers, ndim, log_prob, args=[height])\n",
        "\n",
        "# generate an initial guess from the prior\n",
        "p0 = np.random.uniform(0, 60, nwalkers).reshape(-1, 1)\n",
        "\n",
        "# do a warm-up/burn-in to allow the generated points to come into the posterior\n",
        "# we do this for 200 steps since it is a simple 1-D problem\n",
        "state = sampler.run_mcmc(p0, 500)\n",
        "\n",
        "# reset to clear the previous samples except the last one\n",
        "# then do the acutual sampling for 1000 steps\n",
        "sampler.reset()\n",
        "state = sampler.run_mcmc(state, 1000)\n",
        "samples = sampler.get_chain() # the output shape will be (samples, chain, dim)"
      ],
      "metadata": {
        "id": "L6x4UdH6JaZj"
      },
      "execution_count": 83,
      "outputs": []
    },
    {
      "cell_type": "markdown",
      "source": [
        "Lets visualize these chains to make sure they have mixed well"
      ],
      "metadata": {
        "id": "s8Ks7FmR8KNI"
      }
    },
    {
      "cell_type": "code",
      "source": [
        "print(samples.shape)\n",
        "plt.plot(samples[:, :3, 0]);"
      ],
      "metadata": {
        "colab": {
          "base_uri": "https://localhost:8080/",
          "height": 448
        },
        "id": "I-_Y6Tej7voU",
        "outputId": "2c8a1ab8-3ef3-4c1e-e6c1-fe3d6e1c6618"
      },
      "execution_count": 84,
      "outputs": [
        {
          "output_type": "stream",
          "name": "stdout",
          "text": [
            "(1000, 10, 1)\n"
          ]
        },
        {
          "output_type": "display_data",
          "data": {
            "text/plain": [
              "<Figure size 640x480 with 1 Axes>"
            ],
            "image/png": "[encoded data removed]"
          },
          "metadata": {}
        }
      ]
    },
    {
      "cell_type": "markdown",
      "source": [
        "Finally, lets plot the final posterior distrbution"
      ],
      "metadata": {
        "id": "-F_78XxG8PoN"
      }
    },
    {
      "cell_type": "code",
      "source": [
        "plt.hist(samples.flatten())\n",
        "plt.axvline(age, color='k')"
      ],
      "metadata": {
        "colab": {
          "base_uri": "https://localhost:8080/",
          "height": 448
        },
        "id": "gOEt_JFXLyFA",
        "outputId": "24ea11f1-51a2-4bd3-8638-c890289a7f9f"
      },
      "execution_count": 85,
      "outputs": [
        {
          "output_type": "execute_result",
          "data": {
            "text/plain": [
              "<matplotlib.lines.Line2D at 0x7f73e88b08b0>"
            ]
          },
          "metadata": {},
          "execution_count": 85
        },
        {
          "output_type": "display_data",
          "data": {
            "text/plain": [
              "<Figure size 640x480 with 1 Axes>"
            ],
            "image/png": "[encoded data removed]"
          },
          "metadata": {}
        }
      ]
    },
    {
      "cell_type": "markdown",
      "source": [
        "## Implicit inference with SBI\n",
        "\n",
        "To do the explicit inference as we discussed above, we needed to know the likelihood distribution of the data (heights) conditioned on the parameters (age). Often we do not have access to it.\n",
        "\n",
        "However many times we do have access to the samples from this likelihood distribution. This is precisely what a physical simulator gives you.\n",
        "\n",
        "In this example, we will assume that we have this data from the simulator described above (or alternatively that you got these samples from surveying the population).\n",
        "SBI allows us to do the inference in this setting.\n",
        "\n",
        "Fundamentally, what you do is to use these samples to learn the amortized likelihood, or the posterior distribution using flexible models capable of learning density distributions. Generally, these models are _normalizing flows_ (but they do not necessarily have to be).\n",
        "\n",
        "Here, we will conduct SBI using normalizing flows using `sbi`, an excellent python package. See\n",
        "[Tejero-Cantero+(2020)](https://doi.org/10.21105/joss.02505) for details.\n",
        "\n"
      ],
      "metadata": {
        "id": "OCryvZuk8fMU"
      }
    },
    {
      "cell_type": "code",
      "source": [
        "# Lets begin with some imports\n",
        "import sbi.utils as utils\n",
        "from sbi.inference.base import infer\n",
        "from sbi import analysis\n",
        "from sbi.inference import SNPE, SNLE_A #prepare_for_sbi, simulate_for_sbi"
      ],
      "metadata": {
        "id": "CoCJYeN5LUJ4"
      },
      "execution_count": 71,
      "outputs": []
    },
    {
      "cell_type": "code",
      "source": [
        "# We again need to set the priors, in this case using torch tensors.\n",
        "# We simply use `sbi' package funcionality for this\n",
        "\n",
        "prior = utils.BoxUniform(\n",
        "    low=torch.tensor([0]),\n",
        "    high=torch.tensor([65])\n",
        ")\n"
      ],
      "metadata": {
        "id": "tK2aoPhhPHMO"
      },
      "execution_count": 72,
      "outputs": []
    },
    {
      "cell_type": "markdown",
      "source": [
        "Lets define a normalizing flow model. This is the model that estimates the conditional probability distribution --- i.e. posterior. We will use masked autoregressive flows (MAF; [Papamakarios+(2017)](https://ui.adsabs.harvard.edu/abs/2017arXiv170507057P/abstract)).\n",
        "\n",
        "Since we're estimating a relatively simple example, we'll go with some random architecture\n"
      ],
      "metadata": {
        "id": "NGu2mYhkPBST"
      }
    },
    {
      "cell_type": "code",
      "source": [
        "nhidden = 128\n",
        "nblocks = 5\n",
        "\n",
        "maf_model = utils.posterior_nn('maf', hidden_features=nhidden, num_transforms=nblocks)"
      ],
      "metadata": {
        "id": "lsnC9zMxO_p5"
      },
      "execution_count": 73,
      "outputs": []
    },
    {
      "cell_type": "markdown",
      "source": [
        "Now we can set up the SBI. Note that we use the SNPE module, which stands for Sequential Neural Posterior Estimation. We will *not* be using the sequential\n",
        "feature, which allows us to sequentially generate more samples using our forward model. However, if you're interested the `sbi` package is fairly well documented with examples: https://www.mackelab.org/sbi/tutorial/16_implemented_methods/\n",
        "\n",
        "\n",
        "Instead here we will generate the samples from the simulator beforehand and then use these to train SBI. In this way, the SBI pricedure is amortized i.e. once trained, it can be used with many new data points for inference.\n",
        "\n",
        "Sequential approaches depend on data and in any round, they generate simulations for training more effectively in a region from the approximate posterior distribution of the previous round."
      ],
      "metadata": {
        "id": "l9BlUlvwPguh"
      }
    },
    {
      "cell_type": "code",
      "source": [
        "# generate simulations from the simulator\n",
        "\n",
        "num_sims = 1000\n",
        "theta = prior.sample((num_sims,))\n",
        "\n",
        "x = simulator(theta[:, 0].numpy())\n",
        "# some bookkeeping to change data into right shape and data-type\n",
        "x = torch.from_numpy(x.reshape(-1, 1).astype(np.float32))\n"
      ],
      "metadata": {
        "id": "MA7nSP6TPf_G"
      },
      "execution_count": 74,
      "outputs": []
    },
    {
      "cell_type": "code",
      "source": [
        "# Let us set-up the inference object now\n",
        "\n",
        "method = 'SNLE' #SNPE or SNLE or SNRE\n",
        "inference = SNPE(prior=prior)\n",
        "\n",
        "# append the simulations to the inference object\n",
        "_ = inference.append_simulations(theta, x).train()\n",
        "\n",
        "# Finally, train the normalizing flow to approximate the posterior\n",
        "posterior = inference.build_posterior()\n"
      ],
      "metadata": {
        "colab": {
          "base_uri": "https://localhost:8080/"
        },
        "id": "6S-dCm1SQfEc",
        "outputId": "1d79384e-82ed-41eb-f971-c341c6e082ee"
      },
      "execution_count": 87,
      "outputs": [
        {
          "output_type": "stream",
          "name": "stderr",
          "text": [
            "/usr/local/lib/python3.10/dist-packages/sbi/neural_nets/flow.py:142: UserWarning: In one-dimensional output space, this flow is limited to Gaussians\n",
            "  warn(\"In one-dimensional output space, this flow is limited to Gaussians\")\n"
          ]
        },
        {
          "output_type": "stream",
          "name": "stdout",
          "text": [
            " Neural network successfully converged after 66 epochs."
          ]
        }
      ]
    },
    {
      "cell_type": "code",
      "source": [
        "samples2 = posterior.sample((1000,), x=torch.from_numpy(np.array([height]).astype(np.float32).reshape(-1, 1))).numpy().flatten()"
      ],
      "metadata": {
        "colab": {
          "base_uri": "https://localhost:8080/",
          "height": 49,
          "referenced_widgets": [
            "0d3d871205644e4ba3b916e3cc55890c",
            "1029eadb0e6f46469cd7784b2a6d2715",
            "90ade41299c6409c9b84f84af2c2b883",
            "9d13eb5db3794cf6a9a57351c2143ef1",
            "618a674580fd48a48fef668206717096",
            "90cf063bcf364de5ad1b9def2e3d43c5",
            "070538e31cf946a0ba43be909d4b5e95",
            "32efb0d3ea4f4be09d49f4e31df2e849",
            "d5cc90c0db7e4361bc2c8d3e894b68e4",
            "7b38541b63c4481793a55989049db26b",
            "3e3c4c32b2ad47cf9173f81286b59762"
          ]
        },
        "id": "nbxvSD8iSsKO",
        "outputId": "d6d393e6-c681-436b-b5d8-df9ec985bd08"
      },
      "execution_count": 88,
      "outputs": [
        {
          "output_type": "display_data",
          "data": {
            "text/plain": [
              "Drawing 1000 posterior samples:   0%|          | 0/1000 [00:00<?, ?it/s]"
            ],
            "application/vnd.jupyter.widget-view+json": {
              "version_major": 2,
              "version_minor": 0,
              "model_id": "0d3d871205644e4ba3b916e3cc55890c"
            }
          },
          "metadata": {}
        }
      ]
    },
    {
      "cell_type": "code",
      "source": [
        "plt.hist(samples.flatten(), density=True, bins=30)\n",
        "plt.hist(samples2, alpha=0.5, density=True, bins=30)\n",
        "plt.axvline(age, color='k')"
      ],
      "metadata": {
        "colab": {
          "base_uri": "https://localhost:8080/",
          "height": 448
        },
        "id": "dZjTmk-wSsX3",
        "outputId": "02833ede-0a80-4fb3-a384-bd40977c22a6"
      },
      "execution_count": 89,
      "outputs": [
        {
          "output_type": "execute_result",
          "data": {
            "text/plain": [
              "<matplotlib.lines.Line2D at 0x7f73d649b0d0>"
            ]
          },
          "metadata": {},
          "execution_count": 89
        },
        {
          "output_type": "display_data",
          "data": {
            "text/plain": [
              "<Figure size 640x480 with 1 Axes>"
            ],
            "image/png": "[encoded data removed]"
          },
          "metadata": {}
        }
      ]
    },
    {
      "cell_type": "code",
      "source": [],
      "metadata": {
        "id": "3uqWkn6-HJ_6"
      },
      "execution_count": 77,
      "outputs": []
    },
    {
      "cell_type": "markdown",
      "source": [
        "# Power spectrum"
      ],
      "metadata": {
        "id": "FQy4NuVXMfjH"
      }
    },
    {
      "cell_type": "code",
      "source": [
        "!pip install classylss"
      ],
      "metadata": {
        "colab": {
          "base_uri": "https://localhost:8080/"
        },
        "id": "j_C4bHnjMiM8",
        "outputId": "d8b596f1-c6fe-442b-c604-7abfc8b6430c"
      },
      "execution_count": null,
      "outputs": [
        {
          "output_type": "stream",
          "name": "stdout",
          "text": [
            "Collecting classylss\n",
            "  Using cached classylss-0.2.9.tar.gz (244 kB)\n",
            "  \u001b[1;31merror\u001b[0m: \u001b[1msubprocess-exited-with-error\u001b[0m\n",
            "  \n",
            "  \u001b[31m×\u001b[0m \u001b[32mpython setup.py egg_info\u001b[0m did not run successfully.\n",
            "  \u001b[31m│\u001b[0m exit code: \u001b[1;36m1\u001b[0m\n",
            "  \u001b[31m╰─>\u001b[0m See above for output.\n",
            "  \n",
            "  \u001b[1;35mnote\u001b[0m: This error originates from a subprocess, and is likely not a problem with pip.\n",
            "  Preparing metadata (setup.py) ... \u001b[?25l\u001b[?25herror\n",
            "\u001b[1;31merror\u001b[0m: \u001b[1mmetadata-generation-failed\u001b[0m\n",
            "\n",
            "\u001b[31m×\u001b[0m Encountered error while generating package metadata.\n",
            "\u001b[31m╰─>\u001b[0m See above for output.\n",
            "\n",
            "\u001b[1;35mnote\u001b[0m: This is an issue with the package mentioned above, not pip.\n",
            "\u001b[1;36mhint\u001b[0m: See above for details.\n"
          ]
        }
      ]
    },
    {
      "cell_type": "code",
      "source": [
        "!conda version"
      ],
      "metadata": {
        "colab": {
          "base_uri": "https://localhost:8080/"
        },
        "id": "koue8BfiOvth",
        "outputId": "f5473165-0bc8-492b-e26e-3e4726fa48d5"
      },
      "execution_count": null,
      "outputs": [
        {
          "output_type": "stream",
          "name": "stdout",
          "text": [
            "/bin/bash: line 1: conda: command not found\n"
          ]
        }
      ]
    },
    {
      "cell_type": "code",
      "source": [],
      "metadata": {
        "id": "Ep49ehNmN3E8"
      },
      "execution_count": null,
      "outputs": []
    }
  ]
}